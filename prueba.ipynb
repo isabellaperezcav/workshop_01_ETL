{
 "cells": [
  {
   "cell_type": "code",
   "execution_count": 3,
   "metadata": {},
   "outputs": [],
   "source": [
    "# conexion_db.py\n",
    "import mysql.connector\n",
    "\n",
    "def get_db_connection():\n",
    "    try:\n",
    "        conn = mysql.connector.connect(\n",
    "            host=\"localhost\",\n",
    "            user=\"root\",\n",
    "            password=\"root\",\n",
    "            database=\"Hirings\"\n",
    "        )\n",
    "        return conn\n",
    "    except mysql.connector.Error as err:\n",
    "        print(f\"Error al conectar a la base de datos: {err}\")\n",
    "        return None  # Si hay un error, devuelve None"
   ]
  },
  {
   "cell_type": "code",
   "execution_count": 4,
   "metadata": {},
   "outputs": [
    {
     "ename": "ModuleNotFoundError",
     "evalue": "No module named 'conexion_db'",
     "output_type": "error",
     "traceback": [
      "\u001b[1;31m---------------------------------------------------------------------------\u001b[0m",
      "\u001b[1;31mModuleNotFoundError\u001b[0m                       Traceback (most recent call last)",
      "Cell \u001b[1;32mIn[4], line 2\u001b[0m\n\u001b[0;32m      1\u001b[0m \u001b[38;5;28;01mimport\u001b[39;00m\u001b[38;5;250m \u001b[39m\u001b[38;5;21;01mpandas\u001b[39;00m\u001b[38;5;250m \u001b[39m\u001b[38;5;28;01mas\u001b[39;00m\u001b[38;5;250m \u001b[39m\u001b[38;5;21;01mpd\u001b[39;00m\n\u001b[1;32m----> 2\u001b[0m \u001b[38;5;28;01mfrom\u001b[39;00m\u001b[38;5;250m \u001b[39m\u001b[38;5;21;01mconexion_db\u001b[39;00m\u001b[38;5;250m \u001b[39m\u001b[38;5;28;01mimport\u001b[39;00m get_db_connection\n\u001b[0;32m      4\u001b[0m \u001b[38;5;66;03m# Obtener la conexión a la base de datos\u001b[39;00m\n\u001b[0;32m      5\u001b[0m conn \u001b[38;5;241m=\u001b[39m get_db_connection()\n",
      "\u001b[1;31mModuleNotFoundError\u001b[0m: No module named 'conexion_db'"
     ]
    }
   ],
   "source": [
    "import pandas as pd\n",
    "from conexion_db import get_db_connection\n",
    "\n",
    "# Obtener la conexión a la base de datos\n",
    "conn = get_db_connection()\n",
    "\n",
    "# Verificar si la conexión es válida\n",
    "if conn is None:\n",
    "    print(\"Error: No se pudo establecer la conexión a la base de datos.\")\n",
    "else:\n",
    "    try:\n",
    "        # Definir la consulta SQL\n",
    "        query = \"SELECT * FROM Candidates\"\n",
    "\n",
    "        # Leer los datos en un DataFrame\n",
    "        df = pd.read_sql(query, conn)\n",
    "        print(df.head())  # Verificar que los datos se han cargado correctamente\n",
    "    except Exception as e:\n",
    "        print(f\"Error al ejecutar la consulta: {e}\")\n",
    "    finally:\n",
    "        # Cerrar la conexión solo si existe\n",
    "        if conn:\n",
    "            conn.close()"
   ]
  },
  {
   "cell_type": "code",
   "execution_count": 1,
   "metadata": {},
   "outputs": [
    {
     "name": "stdout",
     "output_type": "stream",
     "text": [
      "✅ conexion_db.py se está ejecutando correctamente\n",
      "❌ Error inesperado: Failed raising error.\n",
      "Error al ejecutar la consulta: 'NoneType' object has no attribute 'rollback'\n"
     ]
    },
    {
     "ename": "AttributeError",
     "evalue": "'NoneType' object has no attribute 'close'",
     "output_type": "error",
     "traceback": [
      "\u001b[1;31m---------------------------------------------------------------------------\u001b[0m",
      "\u001b[1;31mAttributeError\u001b[0m                            Traceback (most recent call last)",
      "Cell \u001b[1;32mIn[1], line 22\u001b[0m\n\u001b[0;32m     19\u001b[0m     \u001b[38;5;28mprint\u001b[39m(\u001b[38;5;124mf\u001b[39m\u001b[38;5;124m\"\u001b[39m\u001b[38;5;124mError al ejecutar la consulta: \u001b[39m\u001b[38;5;132;01m{\u001b[39;00me\u001b[38;5;132;01m}\u001b[39;00m\u001b[38;5;124m\"\u001b[39m)\n\u001b[0;32m     20\u001b[0m \u001b[38;5;28;01mfinally\u001b[39;00m:\n\u001b[0;32m     21\u001b[0m     \u001b[38;5;66;03m# Cerrar la conexión\u001b[39;00m\n\u001b[1;32m---> 22\u001b[0m     \u001b[43mconn\u001b[49m\u001b[38;5;241;43m.\u001b[39;49m\u001b[43mclose\u001b[49m()\n",
      "\u001b[1;31mAttributeError\u001b[0m: 'NoneType' object has no attribute 'close'"
     ]
    }
   ],
   "source": [
    "import pandas as pd\n",
    "from sqlalchemy import create_engine\n",
    "from db_connection import get_db_connection\n",
    "\n",
    "# Obtener la conexión a la base de datos\n",
    "conn = get_db_connection()\n",
    "\n",
    "# Crear un motor de SQLAlchemy\n",
    "engine = create_engine('mysql+mysqlconnector://', creator=lambda: conn)\n",
    "\n",
    "# Definir la consulta SQL\n",
    "query = \"SELECT * FROM Candidates\"\n",
    "\n",
    "# Leer los datos en un DataFrame\n",
    "try:\n",
    "    df = pd.read_sql(query, engine)\n",
    "    print(df.head())  # Verificar que los datos se han cargado correctamente\n",
    "except Exception as e:\n",
    "    print(f\"Error al ejecutar la consulta: {e}\")\n",
    "finally:\n",
    "    # Cerrar la conexión\n",
    "    conn.close()"
   ]
  }
 ],
 "metadata": {
  "kernelspec": {
   "display_name": "venv",
   "language": "python",
   "name": "python3"
  },
  "language_info": {
   "codemirror_mode": {
    "name": "ipython",
    "version": 3
   },
   "file_extension": ".py",
   "mimetype": "text/x-python",
   "name": "python",
   "nbconvert_exporter": "python",
   "pygments_lexer": "ipython3",
   "version": "3.12.3"
  }
 },
 "nbformat": 4,
 "nbformat_minor": 2
}
